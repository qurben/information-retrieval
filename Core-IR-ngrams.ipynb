{
 "cells": [
  {
   "cell_type": "markdown",
   "metadata": {},
   "source": [
    "# Generate ngrams for every row"
   ]
  },
  {
   "cell_type": "code",
   "execution_count": null,
   "metadata": {},
   "outputs": [],
   "source": [
    "import pandas as pd\n",
    "import numpy as np\n",
    "import re\n",
    "import os\n",
    "import os.path\n",
    "\n",
    "IN_FILE = 'total_data.csv'\n",
    "OUT_FILE = 'total_data_ngrams.csv'\n",
    "CHUNK_SIZE = 100000\n",
    "NUMBER_OF_NGRAMS = 2"
   ]
  },
  {
   "cell_type": "code",
   "execution_count": null,
   "metadata": {},
   "outputs": [],
   "source": [
    "def apply_suffix_ngrams(row):\n",
    "    query = row[\"Query\"]\n",
    "    if pd.isna(query): query = ''\n",
    "    return pd.Series(suffix_ngrams(query))\n",
    "\n",
    "def suffix_ngrams(string):\n",
    "    words = re.sub(r' +|-|\\.', ' ', string).split()\n",
    "    num_ngrams = min(len(words), NUMBER_OF_NGRAMS)\n",
    "\n",
    "    for i in range(num_ngrams): yield ' '.join(words[(-1-i):])\n",
    "    for _ in range(NUMBER_OF_NGRAMS - num_ngrams): yield None"
   ]
  },
  {
   "cell_type": "code",
   "execution_count": null,
   "metadata": {},
   "outputs": [],
   "source": [
    "ngram_cols = ['ngram{}'.format(n+1) for n in range(NUMBER_OF_NGRAMS)]\n",
    "\n",
    "with open(OUT_FILE, 'w') as the_file, open(IN_FILE, 'r') as in_file:\n",
    "    line = in_file.readline()[:-1]\n",
    "    the_file.write(line + ',' + ','.join(ngram_cols) + '\\n')"
   ]
  },
  {
   "cell_type": "code",
   "execution_count": null,
   "metadata": {},
   "outputs": [],
   "source": [
    "chunks = pd.read_csv(IN_FILE, index_col=0, low_memory=False, chunksize=CHUNK_SIZE)\n",
    "dtypes = {\n",
    "    'AnonID': 'str',\n",
    "    'Query': 'str',\n",
    "    'QueryTime': 'str',\n",
    "    'ItemRank': 'str',\n",
    "    'ClickUrl': 'str',\n",
    "}\n",
    "\n",
    "# Count the number of chunks in this file\n",
    "num_chunks = int(sum(1 for row in open(IN_FILE, 'r')) / CHUNK_SIZE) + 1\n",
    "chunk_ids = iter(range(1, num_chunks+1))\n",
    "\n",
    "for df in chunks:\n",
    "    print(\"Processing chunk {} of {}\".format(next(chunk_ids), num_chunks), end=\"\\r\")\n",
    "    df[ngram_cols] = df.apply(apply_suffix_ngrams, axis=1)\n",
    "    df.to_csv(OUT_FILE, mode='a', header=False)"
   ]
  }
 ],
 "metadata": {
  "kernelspec": {
   "display_name": "Python 3",
   "language": "python",
   "name": "python3"
  },
  "language_info": {
   "codemirror_mode": {
    "name": "ipython",
    "version": 3
   },
   "file_extension": ".py",
   "mimetype": "text/x-python",
   "name": "python",
   "nbconvert_exporter": "python",
   "pygments_lexer": "ipython3",
   "version": "3.7.1"
  }
 },
 "nbformat": 4,
 "nbformat_minor": 2
}

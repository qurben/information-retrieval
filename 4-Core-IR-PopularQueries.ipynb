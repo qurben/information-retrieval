{
 "cells": [
  {
   "cell_type": "markdown",
   "metadata": {},
   "source": [
    "# Popular Query mining\n",
    "\n",
    "> For candidate generation, both the list of popular queries and suffixes are mined from the\n",
    "> background portion of the two testbeds. We use 724,340 and 1,040,674 distinct queries on the AOL\n",
    "> testbed and the Bing testbed, respectively, as the set of full-query candidates\n",
    "\n",
    "We need to find the 724340 most popular distinct queries from the background data."
   ]
  },
  {
   "cell_type": "code",
   "execution_count": null,
   "metadata": {},
   "outputs": [],
   "source": [
    "import dask.dataframe as dd\n",
    "import pandas as pd\n",
    "\n",
    "NUM_QUERIES = 724340\n",
    "CHUNK_SIZE = 10000\n",
    "IN_FILE = 'background_normalized.csv'\n",
    "OUT_FILE = 'popular_query.csv'"
   ]
  },
  {
   "cell_type": "code",
   "execution_count": null,
   "metadata": {},
   "outputs": [],
   "source": [
    "dtypes = {\n",
    "    'Index': 'int64',\n",
    "    'AnonID': 'str',\n",
    "    'Query': 'str',\n",
    "    'QueryTime': 'str',\n",
    "    'ItemRank': 'str',\n",
    "    'ClickURL': 'str',\n",
    "}\n",
    "\n",
    "# only load index and Query\n",
    "df = pd.read_csv(IN_FILE, dtype=dtypes, usecols=[0, 2])\n",
    "df = dd.from_pandas(df, chunksize=CHUNK_SIZE)\n",
    "\n",
    "print('CSV loaded')\n",
    "\n",
    "df = df.groupby('Query').agg('size').compute().reset_index(name='counts')\n",
    "\n",
    "print('Group by finished')\n",
    "\n",
    "df = df.sort_values('counts', ascending=False)\n",
    "\n",
    "print('Sort finished')\n",
    "\n",
    "df.to_csv(OUT_FILE)"
   ]
  }
 ],
 "metadata": {
  "kernelspec": {
   "display_name": "Python 3",
   "language": "python",
   "name": "python3"
  },
  "language_info": {
   "codemirror_mode": {
    "name": "ipython",
    "version": 3
   },
   "file_extension": ".py",
   "mimetype": "text/x-python",
   "name": "python",
   "nbconvert_exporter": "python",
   "pygments_lexer": "ipython3",
   "version": "3.7.1"
  }
 },
 "nbformat": 4,
 "nbformat_minor": 2
}

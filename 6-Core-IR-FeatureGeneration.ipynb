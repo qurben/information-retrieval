{
 "cells": [
  {
   "cell_type": "markdown",
   "metadata": {},
   "source": [
    "# Feature Generation\n",
    "\n",
    "## N-gram based features\n",
    "\n",
    "> From the set of all n-grams G in a candidate suggestion we compute the\n",
    "> n-gram frequency features n gram _freq<sub>i</sub>_ (for _i_ = 1 to 6).\n",
    "\n",
    "## Other features\n",
    "\n",
    "- frequency of the candidate query in the historical logs\n",
    "- length of the prefix in characters\n",
    "- length of the prefix in words\n",
    "- length of the suffix in characters\n",
    "- length of the suffix in words\n",
    "- length of the full suggestion\n",
    "- length of the full words\n",
    "- whether a prefix ends with a space (boolean)"
   ]
  },
  {
   "cell_type": "code",
   "execution_count": null,
   "metadata": {},
   "outputs": [],
   "source": [
    "import pandas as pd\n",
    "\n",
    "TRAINING_FILE = 'training_normalized.csv'"
   ]
  },
  {
   "cell_type": "code",
   "execution_count": null,
   "metadata": {},
   "outputs": [],
   "source": []
  }
 ],
 "metadata": {
  "kernelspec": {
   "display_name": "Python 3",
   "language": "python",
   "name": "python3"
  },
  "language_info": {
   "codemirror_mode": {
    "name": "ipython",
    "version": 3
   },
   "file_extension": ".py",
   "mimetype": "text/x-python",
   "name": "python",
   "nbconvert_exporter": "python",
   "pygments_lexer": "ipython3",
   "version": "3.7.1"
  }
 },
 "nbformat": 4,
 "nbformat_minor": 2
}

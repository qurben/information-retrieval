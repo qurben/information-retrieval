{
 "cells": [
  {
   "cell_type": "markdown",
   "metadata": {},
   "source": [
    "# Feature Generation\n",
    "\n",
    "## N-gram based features\n",
    "\n",
    "> From the set of all n-grams G in a candidate suggestion we compute the\n",
    "> n-gram frequency features n gram _freq<sub>i</sub>_ (for _i_ = 1 to 6).\n",
    "\n",
    "## Other features\n",
    "\n",
    "- frequency of the candidate query in the historical logs\n",
    "- length of the prefix in characters\n",
    "- length of the prefix in words\n",
    "- length of the suffix in characters\n",
    "- length of the suffix in words\n",
    "- length of the full suggestion\n",
    "- length of the full words\n",
    "- whether a prefix ends with a space (boolean)"
   ]
  },
  {
   "cell_type": "code",
   "execution_count": null,
   "metadata": {},
   "outputs": [],
   "source": [
    "import pandas as pd\n",
    "import nltk\n",
    "\n",
    "TRAINING_FILE = 'generated_candidate_head.csv'\n",
    "FEATURES_FILE = 'training_features.csv'\n",
    "SUFFIX_FILE = 'popular_suffix.csv'\n",
    "QUERY_FILE = 'popular_query.csv'\n",
    "\n",
    "CHUNK_SIZE = 10000"
   ]
  },
  {
   "cell_type": "markdown",
   "metadata": {},
   "source": [
    "## Ngram based features"
   ]
  },
  {
   "cell_type": "code",
   "execution_count": null,
   "metadata": {},
   "outputs": [],
   "source": [
    "ngram_cols = ['ngramfreq_{}'.format(i) for i in range(1,7)]\n",
    "\n",
    "def ngram_apply(query, suffix_df):\n",
    "    words = query.split()\n",
    "    ngrams = []\n",
    "        \n",
    "    for n in range(1,7):\n",
    "        s = 0\n",
    "        for ngram in nltk.ngrams(words, n):\n",
    "            try:\n",
    "                counts = int(suffix_df.at[' '.join(ngram), 'counts'])\n",
    "            except KeyError:\n",
    "                counts = 0\n",
    "\n",
    "            s += counts\n",
    "            \n",
    "        ngrams.append(s)\n",
    "    \n",
    "    return pd.Series(ngrams)\n",
    "\n",
    "def query_freq(query, query_df):\n",
    "    try:\n",
    "        return int(query_df.at[query, 'counts'])\n",
    "    except KeyError:\n",
    "        return 0"
   ]
  },
  {
   "cell_type": "code",
   "execution_count": null,
   "metadata": {},
   "outputs": [],
   "source": [
    "suffix_df = pd.read_csv(SUFFIX_FILE, index_col=0, dtype=object, low_memory=False)\n",
    "suffix_df = suffix_df.set_index('ngram')\n",
    "\n",
    "query_df = pd.read_csv(QUERY_FILE, index_col='Query', dtype=object, low_memory=False)"
   ]
  },
  {
   "cell_type": "code",
   "execution_count": null,
   "metadata": {},
   "outputs": [],
   "source": [
    "dtypes = {\n",
    "    'Prefix': 'str',\n",
    "    'Query': 'str',\n",
    "    'Suffix': 'str',\n",
    "    'ItemRank': 'str',\n",
    "    'ClickURL': 'str',\n",
    "}\n",
    "\n",
    "# only load index and Query\n",
    "chunks = pd.read_csv(TRAINING_FILE, dtype=dtypes, low_memory=False, chunksize=CHUNK_SIZE)\n",
    "\n",
    "# Count the number of chunks in this file\n",
    "num_chunks = int(sum(1 for row in open(TRAINING_FILE, 'r')) / CHUNK_SIZE) + 1\n",
    "chunk_id = iter(range(1, num_chunks+1))"
   ]
  },
  {
   "cell_type": "code",
   "execution_count": null,
   "metadata": {},
   "outputs": [],
   "source": [
    "with open(FEATURES_FILE, 'w') as the_file: the_file.write(',Prefix,Query,Suffix,ngramfreq_1,ngramfreq_2,ngramfreq_3,ngramfreq_4,ngramfreq_5,ngramfreq_5,query_freq,prefix_len_c,prefix_len_w,suffix_len_c,suffix_len_w,len_c,len_w,end_space\\n')\n",
    "\n",
    "for df in chunks:\n",
    "    print(\"Processing chunk {} of {}\".format(next(chunk_id), num_chunks), end=\"\\r\")\n",
    "    \n",
    "    # Any empty query is not interesting\n",
    "    df.dropna(inplace=True)\n",
    "\n",
    "    df = df.reset_index(drop=True)\n",
    "    \n",
    "    df[ngram_cols] = df.Query.apply(ngram_apply, suffix_df=suffix_df)\n",
    "    df['query_freq'] = df.Query.apply(query_freq, query_df=query_df)\n",
    "    df['prefix_len_c'] = df.Prefix.str.len()\n",
    "    df['prefix_len_w'] = df.Prefix.str.split().str.len()\n",
    "    df['suffix_len_c'] = df.Suffix.str.len()\n",
    "    df['suffix_len_w'] = df.Suffix.str.split().str.len()\n",
    "    df['len_c'] = df.Query.str.len()\n",
    "    df['len_w'] = df.Query.str.split().str.len()\n",
    "    df['end_space'] = df.Prefix.str.endswith(' ').astype(int)\n",
    "    \n",
    "    \n",
    "    df.to_csv(FEATURES_FILE, mode='a', header=False)"
   ]
  }
 ],
 "metadata": {
  "kernelspec": {
   "display_name": "Python 3",
   "language": "python",
   "name": "python3"
  },
  "language_info": {
   "codemirror_mode": {
    "name": "ipython",
    "version": 3
   },
   "file_extension": ".py",
   "mimetype": "text/x-python",
   "name": "python",
   "nbconvert_exporter": "python",
   "pygments_lexer": "ipython3",
   "version": "3.7.1"
  }
 },
 "nbformat": 4,
 "nbformat_minor": 2
}

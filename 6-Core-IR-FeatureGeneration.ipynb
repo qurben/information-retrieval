{
 "cells": [
  {
   "cell_type": "markdown",
   "metadata": {},
   "source": [
    "# Feature Generation\n",
    "\n",
    "## N-gram based features\n",
    "\n",
    "> From the set of all n-grams G in a candidate suggestion we compute the\n",
    "> n-gram frequency features n gram _freq<sub>i</sub>_ (for _i_ = 1 to 6).\n",
    "\n",
    "## Other features\n",
    "\n",
    "- frequency of the candidate query in the historical logs\n",
    "- length of the prefix in characters\n",
    "- length of the prefix in words\n",
    "- length of the suffix in characters\n",
    "- length of the suffix in words\n",
    "- length of the full suggestion\n",
    "- length of the full words\n",
    "- whether a prefix ends with a space (boolean)"
   ]
  },
  {
   "cell_type": "code",
   "execution_count": null,
   "metadata": {},
   "outputs": [],
   "source": [
    "import pandas as pd\n",
    "import nltk\n",
    "\n",
    "TRAINING_FILE = 'short.csv'\n",
    "FEATURES_FILE = 'features.csv'\n",
    "\n",
    "CHUNK_SIZE = 10000"
   ]
  },
  {
   "cell_type": "markdown",
   "metadata": {},
   "source": [
    "## Ngram based features"
   ]
  },
  {
   "cell_type": "code",
   "execution_count": null,
   "metadata": {},
   "outputs": [],
   "source": [
    "ngram_cols = ['ngramfreq_{}'.format(i) for i in range(1,7)]\n",
    "\n",
    "def ngram_apply(row):\n",
    "    query = row.Query\n",
    "    words = query.split()\n",
    "    ngrams = []\n",
    "    \n",
    "    print([a for a in nltk.ngrams(words, 2)])\n",
    "    \n",
    "    for n in range(1,7):\n",
    "        ngrams.append(sum(1 for _ in nltk.ngrams(words, n)))\n",
    "    \n",
    "    return pd.Series(ngrams)"
   ]
  },
  {
   "cell_type": "code",
   "execution_count": null,
   "metadata": {},
   "outputs": [],
   "source": [
    "dtypes = {\n",
    "    'Index': 'int64',\n",
    "    'AnonID': 'str',\n",
    "    'Query': 'str',\n",
    "    'QueryTime': 'str',\n",
    "    'ItemRank': 'str',\n",
    "    'ClickURL': 'str',\n",
    "}\n",
    "\n",
    "# only load index and Query\n",
    "chunks = pd.read_csv(TRAINING_FILE, index_col=0, dtype=dtypes, usecols=[0, 2], low_memory=False, chunksize=CHUNK_SIZE)\n",
    "\n",
    "# Count the number of chunks in this file\n",
    "num_chunks = int(sum(1 for row in open(TRAINING_FILE, 'r')) / CHUNK_SIZE) + 1\n",
    "chunk_id = iter(range(1, num_chunks+1))"
   ]
  },
  {
   "cell_type": "code",
   "execution_count": null,
   "metadata": {},
   "outputs": [],
   "source": [
    "for df in chunks:\n",
    "    print(\"Processing chunk {} of {}\".format(next(chunk_id), num_chunks), end=\"\\r\")\n",
    "    \n",
    "    # Any empty query is not interesting\n",
    "    df.dropna(inplace=True)\n",
    "\n",
    "    df = df.reset_index(drop=True)\n",
    "    \n",
    "    df[ngram_cols] = df.apply(ngram_apply, axis=1)\n",
    "    \n",
    "    print(df)"
   ]
  }
 ],
 "metadata": {
  "kernelspec": {
   "display_name": "Python 3",
   "language": "python",
   "name": "python3"
  },
  "language_info": {
   "codemirror_mode": {
    "name": "ipython",
    "version": 3
   },
   "file_extension": ".py",
   "mimetype": "text/x-python",
   "name": "python",
   "nbconvert_exporter": "python",
   "pygments_lexer": "ipython3",
   "version": "3.7.1"
  }
 },
 "nbformat": 4,
 "nbformat_minor": 2
}

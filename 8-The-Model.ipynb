{
 "cells": [
  {
   "cell_type": "markdown",
   "metadata": {},
   "source": [
    "# The Model\n",
    "\n",
    "Train a LambdaMART model using xgboost"
   ]
  },
  {
   "cell_type": "code",
   "execution_count": null,
   "metadata": {},
   "outputs": [],
   "source": [
    "import numpy as np\n",
    "import xgboost as xgb\n",
    "import pandas as pd\n",
    "import math\n",
    "import matplotlib\n",
    "\n",
    "TEST_FILE = \"./test_features.txt\"\n",
    "TRAIN_FILE = \"./training_features.txt\"\n",
    "VALIDATE_FILE = \"./validation_features.txt\"\n",
    "\n",
    "TRAINED_MODEL = \"trained.model\""
   ]
  },
  {
   "cell_type": "code",
   "execution_count": null,
   "metadata": {},
   "outputs": [],
   "source": [
    "def rr(data):\n",
    "    if sum(data)==0:\n",
    "        return 0\n",
    "    else:\n",
    "        try:\n",
    "            index = data.index(1, 0, 8)\n",
    "            return 1/(index+1)\n",
    "        except ValueError:\n",
    "            return 0\n",
    "\n",
    "def averagePrecision(data):\n",
    "    if sum(data)==0:\n",
    "        return 0\n",
    "    total = len(data)\n",
    "    return data[data == 1]/total"
   ]
  },
  {
   "cell_type": "markdown",
   "metadata": {},
   "source": [
    "Load the datasets used for training"
   ]
  },
  {
   "cell_type": "code",
   "execution_count": null,
   "metadata": {},
   "outputs": [],
   "source": [
    "dtrain = xgb.DMatrix(TRAIN_FILE)\n",
    "dvalidation = xgb.DMatrix(VALIDATE_FILE)\n",
    "\n",
    "params = {\n",
    "    'objective' : 'rank:pairwise',\n",
    "    'eval_metric': ['map'],\n",
    "}\n",
    "\n",
    "model =  xgb.train(params, dtrain, num_boost_round=300, evals=[(dvalidation, 'validation')], early_stopping_rounds=30, verbose_eval=True)\n",
    "model.save_model(TRAINED_MODEL)"
   ]
  },
  {
   "cell_type": "markdown",
   "metadata": {},
   "source": [
    "Restore the model from file"
   ]
  },
  {
   "cell_type": "code",
   "execution_count": null,
   "metadata": {},
   "outputs": [],
   "source": [
    "dtest = xgb.DMatrix(TEST_FILE)\n",
    "\n",
    "booster = xgb.Booster()\n",
    "booster.load_model(TRAINED_MODEL)"
   ]
  },
  {
   "cell_type": "markdown",
   "metadata": {},
   "source": [
    "Calculate the results"
   ]
  },
  {
   "cell_type": "code",
   "execution_count": null,
   "metadata": {},
   "outputs": [],
   "source": [
    "preds = booster.predict(dtest, ntree_limit= model.best_ntree_limit)\n",
    "print(preds)"
   ]
  }
 ],
 "metadata": {
  "kernelspec": {
   "display_name": "Python 3",
   "language": "python",
   "name": "python3"
  },
  "language_info": {
   "codemirror_mode": {
    "name": "ipython",
    "version": 3
   },
   "file_extension": ".py",
   "mimetype": "text/x-python",
   "name": "python",
   "nbconvert_exporter": "python",
   "pygments_lexer": "ipython3",
   "version": "3.7.1"
  }
 },
 "nbformat": 4,
 "nbformat_minor": 2
}

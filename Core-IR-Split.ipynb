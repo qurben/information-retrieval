{
 "cells": [
  {
   "cell_type": "markdown",
   "metadata": {},
   "source": [
    "# Splitting data\n",
    "\n",
    "Split the data into different parts according to the definition in the paper\n",
    "\n",
    "> The query impressions on both the testbeds are divided into four temporally separate partitions\n",
    "> (background, training, validation and test). On theAOL testbed we use all the data from 1 March,\n",
    "> 2006 to 30 April, 2006 as the background data. We sample queries from the next two weeks for\n",
    "> training, and from each of the following two weeks for validation and test, respectively. On the\n",
    "> Bing testbed we sample data from the logs from April, 2015 and use the first week of data for\n",
    "> background, the second week for training, the third for validation and the fourth for testing. We\n",
    "> normalize all the queries ineach of these datasets by removing any punctuation characters and\n",
    "> converting them to lower case."
   ]
  },
  {
   "cell_type": "code",
   "execution_count": 1,
   "metadata": {},
   "outputs": [],
   "source": [
    "import pandas\n",
    "from dateutil import parser\n",
    "import os\n",
    "import os.path\n",
    "\n",
    "CHUNK_SIZE = 100000\n",
    "IN_FILE = 'total_data.csv'"
   ]
  },
  {
   "cell_type": "code",
   "execution_count": 2,
   "metadata": {},
   "outputs": [],
   "source": [
    "data_start = \"2006-03-01 00:00:00\"\n",
    "background_end = \"2006-04-30 23:59:59\"\n",
    "training_end = \"2006-05-14 23:59:59\"\n",
    "validation_end = \"2006-05-21 23:59:59\"\n",
    "test_end = \"2006-05-28 23:59:59\"\n",
    "\n",
    "dtypes = {\n",
    "    'AnonID': 'str',\n",
    "    'Query': 'str',\n",
    "    'QueryTime': 'str',\n",
    "    'ItemRank': 'str',\n",
    "    'ClickUrl': 'str',\n",
    "}"
   ]
  },
  {
   "cell_type": "code",
   "execution_count": 3,
   "metadata": {},
   "outputs": [],
   "source": [
    "with open(IN_FILE, 'r') as in_file:\n",
    "    header = in_file.readline()\n",
    "\n",
    "for file in list(['background.csv', 'training.csv', 'validation.csv', 'test.csv']):\n",
    "    with open(file, 'w') as the_file:\n",
    "        the_file.write(header)"
   ]
  },
  {
   "cell_type": "code",
   "execution_count": 4,
   "metadata": {},
   "outputs": [],
   "source": [
    "num_chunks = int(sum(1 for row in open(IN_FILE, 'r')) / CHUNK_SIZE) + 1\n",
    "chunks = pandas.read_csv(IN_FILE, dtype=dtypes, index_col=0, chunksize=CHUNK_SIZE)\n",
    "chunk_ids = iter(range(1, num_chunks+1))"
   ]
  },
  {
   "cell_type": "code",
   "execution_count": null,
   "metadata": {},
   "outputs": [
    {
     "name": "stdout",
     "output_type": "stream",
     "text": [
      "Processing chunk 63 of 364\r"
     ]
    }
   ],
   "source": [
    "for df in chunks:\n",
    "    print(\"Processing chunk {} of {}\".format(next(chunk_ids), num_chunks), end=\"\\r\")\n",
    "\n",
    "    background = df[(df['QueryTime'] > data_start) & (df['QueryTime'] < background_end)]\n",
    "    training = df[(df['QueryTime'] > background_end) & (df['QueryTime'] < training_end)]\n",
    "    validation = df[(df['QueryTime'] > training_end) & (df['QueryTime'] < validation_end)]\n",
    "    test = df[(df['QueryTime'] > validation_end) & (df['QueryTime'] < test_end)]\n",
    "\n",
    "    background.to_csv('background.csv', mode='a', header=False)\n",
    "    training.to_csv('training.csv', mode='a', header=False)\n",
    "    validation.to_csv('validation.csv', mode='a', header=False)\n",
    "    test.to_csv('test.csv', mode='a', header=False)"
   ]
  },
  {
   "cell_type": "code",
   "execution_count": null,
   "metadata": {},
   "outputs": [],
   "source": []
  }
 ],
 "metadata": {
  "kernelspec": {
   "display_name": "Python 3",
   "language": "python",
   "name": "python3"
  },
  "language_info": {
   "codemirror_mode": {
    "name": "ipython",
    "version": 3
   },
   "file_extension": ".py",
   "mimetype": "text/x-python",
   "name": "python",
   "nbconvert_exporter": "python",
   "pygments_lexer": "ipython3",
   "version": "3.7.1"
  }
 },
 "nbformat": 4,
 "nbformat_minor": 2
}

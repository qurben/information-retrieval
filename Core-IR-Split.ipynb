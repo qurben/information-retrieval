{
 "cells": [
  {
   "cell_type": "markdown",
   "metadata": {},
   "source": [
    "# Splitting data\n",
    "\n",
    "Split the data into different parts according to the definition in the paper\n",
    "\n",
    "> The query impressions on both the testbeds are divided into four temporally separate partitions\n",
    "> (background, training, validation and test). On theAOL testbed we use all the data from 1 March,\n",
    "> 2006 to 30 April, 2006 as the background data. We sample queries from the next two weeks for\n",
    "> training, and from each of the following two weeks for validation and test, respectively. On the\n",
    "> Bing testbed we sample data from the logs from April, 2015 and use the first week of data for\n",
    "> background, the second week for training, the third for validation and the fourth for testing. We\n",
    "> normalize all the queries ineach of these datasets by removing any punctuation characters and\n",
    "> converting them to lower case."
   ]
  },
  {
   "cell_type": "code",
   "execution_count": 6,
   "metadata": {},
   "outputs": [],
   "source": [
    "import pandas\n",
    "from dateutil import parser"
   ]
  },
  {
   "cell_type": "code",
   "execution_count": null,
   "metadata": {},
   "outputs": [],
   "source": [
    "data_start = \"2006-03-01 00:00:00\"\n",
    "background_end = \"2006-04-30 23:59:59\"\n",
    "training_end = \"2006-05-14 23:59:59\"\n",
    "validation_end = \"2006-05-21 23:59:59\"\n",
    "test_end = \"2006-03-28 23:59:59\"\n",
    "\n",
    "dtypes = {\n",
    "    'AnonID': 'str',\n",
    "    'Query': 'str',\n",
    "    'QueryTime': 'str',\n",
    "    'ItemRank': 'str',\n",
    "    'ClickUrl': 'str',\n",
    "}"
   ]
  },
  {
   "cell_type": "code",
   "execution_count": null,
   "metadata": {},
   "outputs": [],
   "source": [
    "df = pandas.read_csv('data.csv', dtype=dtypes)\n",
    "df = df.set_index(df['QueryTime'])"
   ]
  },
  {
   "cell_type": "code",
   "execution_count": null,
   "metadata": {},
   "outputs": [],
   "source": [
    "background = df[data_start:background_end]\n",
    "background.to_csv('background.csv')"
   ]
  },
  {
   "cell_type": "code",
   "execution_count": null,
   "metadata": {},
   "outputs": [],
   "source": [
    "training = df[background_end:training_end]\n",
    "training.to_csv('training.csv')"
   ]
  },
  {
   "cell_type": "code",
   "execution_count": null,
   "metadata": {},
   "outputs": [],
   "source": [
    "validation = df[training_end:validation_end]\n",
    "validation.to_csv('validation.csv')"
   ]
  },
  {
   "cell_type": "code",
   "execution_count": null,
   "metadata": {},
   "outputs": [],
   "source": [
    "test = df[validation_end:test_end]\n",
    "test.to_csv('test.csv')"
   ]
  }
 ],
 "metadata": {
  "kernelspec": {
   "display_name": "Python 3",
   "language": "python",
   "name": "python3"
  },
  "language_info": {
   "codemirror_mode": {
    "name": "ipython",
    "version": 3
   },
   "file_extension": ".py",
   "mimetype": "text/x-python",
   "name": "python",
   "nbconvert_exporter": "python",
   "pygments_lexer": "ipython3",
   "version": "3.7.1"
  }
 },
 "nbformat": 4,
 "nbformat_minor": 2
}

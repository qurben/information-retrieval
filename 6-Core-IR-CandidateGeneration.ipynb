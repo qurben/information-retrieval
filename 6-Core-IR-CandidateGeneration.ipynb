{
 "cells": [
  {
   "cell_type": "markdown",
   "metadata": {},
   "source": [
    "# Candidate Generation\n",
    "\n",
    "> for a given prefix we extract the end-term as shown in Figure 1. We match all the suffixes that\n",
    "> start with the end-term from our precomputed set. These selected suffixes are appended to the\n",
    "> prefix to generate synthetic suggestion candidates. For example, the prefix \"cheap flights fro\"\n",
    "> is matched with the suffix \"from seattle\" to generate the candidate \"cheap flights from seattle\".\n",
    "> Note that many of these synthetic suggestion candidates are likely to not have been observed by\n",
    "> the search engine before. We merge these synthetic suggestions with the set of candidates\n",
    "> selected from the list of historically popular queries. This combined set of candidates is used\n",
    "> for ranking as we will describe in Sec 4."
   ]
  },
  {
   "cell_type": "code",
   "execution_count": null,
   "metadata": {},
   "outputs": [],
   "source": [
    "import pandas as pd\n",
    "\n"
   ]
  },
  {
   "cell_type": "code",
   "execution_count": null,
   "metadata": {},
   "outputs": [],
   "source": [
    "def end_term(query):\n",
    "    \"\"\"\n",
    "    end_term('cheapest flight fro') = 'fro'\n",
    "    end_term('cheapest flight from') = 'from'\n",
    "    end_term('cheapest flight from ') = 'from '\n",
    "    end_term('cheapest flight from n') = 'n'\n",
    "    \"\"\"\n",
    "    if query.endswith(' '):\n",
    "        return query[query[:-1].rfind(' ')+1:]\n",
    "    else:\n",
    "        return query[query.rfind(' ')+1:]"
   ]
  }
 ],
 "metadata": {
  "kernelspec": {
   "display_name": "Python 3",
   "language": "python",
   "name": "python3"
  },
  "language_info": {
   "codemirror_mode": {
    "name": "ipython",
    "version": 3
   },
   "file_extension": ".py",
   "mimetype": "text/x-python",
   "name": "python",
   "nbconvert_exporter": "python",
   "pygments_lexer": "ipython3",
   "version": "3.7.1"
  }
 },
 "nbformat": 4,
 "nbformat_minor": 2
}

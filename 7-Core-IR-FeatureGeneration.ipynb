{
 "cells": [
  {
   "cell_type": "markdown",
   "metadata": {},
   "source": [
    "# Feature Generation\n",
    "\n",
    "## N-gram based features\n",
    "\n",
    "> From the set of all n-grams G in a candidate suggestion we compute the\n",
    "> n-gram frequency features n gram _freq<sub>i</sub>_ (for _i_ = 1 to 6).\n",
    "\n",
    "## Other features\n",
    "\n",
    "- frequency of the candidate query in the historical logs\n",
    "- length of the prefix in characters\n",
    "- length of the prefix in words\n",
    "- length of the suffix in characters\n",
    "- length of the suffix in words\n",
    "- length of the full suggestion\n",
    "- length of the full words\n",
    "- whether a prefix ends with a space (boolean)"
   ]
  },
  {
   "cell_type": "code",
   "execution_count": null,
   "metadata": {},
   "outputs": [],
   "source": [
    "import pandas as pd\n",
    "import dask.dataframe as dd\n",
    "import nltk\n",
    "\n",
    "from util.dask import to_csv\n",
    "\n",
    "TRAINING_FILE = 'generated_candidate_head.csv'\n",
    "FEATURES_FILE = 'training_features.csv'\n",
    "SUFFIX_FILE = 'popular_suffix.csv'\n",
    "QUERY_FILE = 'popular_query.csv'\n",
    "\n",
    "CHUNK_SIZE = 10000"
   ]
  },
  {
   "cell_type": "markdown",
   "metadata": {},
   "source": [
    "## Ngram based features"
   ]
  },
  {
   "cell_type": "code",
   "execution_count": null,
   "metadata": {},
   "outputs": [],
   "source": [
    "ngram_cols = ['ngramfreq_{}'.format(i) for i in range(1,7)]\n",
    "\n",
    "def ngram_apply(query, suffix_df):\n",
    "    words = query.split()\n",
    "    ngrams = []\n",
    "        \n",
    "    for n in range(1,7):\n",
    "        s = 0\n",
    "        for ngram in nltk.ngrams(words, n):\n",
    "            try:\n",
    "                counts = int(suffix_df.at[' '.join(ngram), 'counts'])\n",
    "            except KeyError:\n",
    "                counts = 0\n",
    "\n",
    "            s += counts\n",
    "            \n",
    "        ngrams.append(s)\n",
    "    \n",
    "    return pd.Series(ngrams)\n",
    "\n",
    "def query_freq(query, query_df):\n",
    "    try:\n",
    "        return int(query_df.at[query, 'counts'])\n",
    "    except KeyError:\n",
    "        return 0"
   ]
  },
  {
   "cell_type": "code",
   "execution_count": null,
   "metadata": {},
   "outputs": [],
   "source": [
    "suffix_df = pd.read_csv(SUFFIX_FILE, index_col='ngram', dtype=object, low_memory=False)\n",
    "query_df = pd.read_csv(QUERY_FILE, index_col='Query', dtype=object, low_memory=False)"
   ]
  },
  {
   "cell_type": "code",
   "execution_count": null,
   "metadata": {},
   "outputs": [],
   "source": [
    "def calculate_features(in_file, out_file):\n",
    "    df = dd.read_csv(in_file, dtype=object)\n",
    "\n",
    "    # Any empty query is not interesting\n",
    "    df = df.dropna()\n",
    "\n",
    "    df = df.reset_index(drop=True)\n",
    "\n",
    "    df[ngram_cols] = df.Query.apply(ngram_apply, suffix_df=suffix_df)\n",
    "    df['query_freq'] = df.Query.apply(query_freq, query_df=query_df, meta=('freq', int))\n",
    "    df['prefix_len_c'] = df.Prefix.str.len()\n",
    "    df['prefix_len_w'] = df.Prefix.str.split().str.len()\n",
    "    df['suffix_len_c'] = df.Suffix.str.len()\n",
    "    df['suffix_len_w'] = df.Suffix.str.split().str.len()\n",
    "    df['len_c'] = df.Query.str.len()\n",
    "    df['len_w'] = df.Query.str.split().str.len()\n",
    "    df['end_space'] = df.Prefix.str.endswith(' ').astype(int)\n",
    "\n",
    "    to_csv(df, out_file)"
   ]
  },
  {
   "cell_type": "code",
   "execution_count": null,
   "metadata": {},
   "outputs": [],
   "source": [
    "calculate_features('training_sampled.csv', 'training_features.csv')\n",
    "calculate_features('test_sampled.csv', 'test_features.csv')\n",
    "calculate_features('validation_sampled.csv', 'validation_features.cvs')"
   ]
  }
 ],
 "metadata": {
  "kernelspec": {
   "display_name": "Python 3",
   "language": "python",
   "name": "python3"
  },
  "language_info": {
   "codemirror_mode": {
    "name": "ipython",
    "version": 3
   },
   "file_extension": ".py",
   "mimetype": "text/x-python",
   "name": "python",
   "nbconvert_exporter": "python",
   "pygments_lexer": "ipython3",
   "version": "3.7.1"
  }
 },
 "nbformat": 4,
 "nbformat_minor": 2
}

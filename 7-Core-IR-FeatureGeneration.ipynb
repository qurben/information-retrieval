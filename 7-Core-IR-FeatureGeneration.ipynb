{
 "cells": [
  {
   "cell_type": "markdown",
   "metadata": {},
   "source": [
    "# Feature Generation\n",
    "\n",
    "## N-gram based features\n",
    "\n",
    "> From the set of all n-grams G in a candidate suggestion we compute the\n",
    "> n-gram frequency features n gram _freq<sub>i</sub>_ (for _i_ = 1 to 6).\n",
    "\n",
    "## Other features\n",
    "\n",
    "- frequency of the candidate query in the historical logs\n",
    "- length of the prefix in characters\n",
    "- length of the prefix in words\n",
    "- length of the suffix in characters\n",
    "- length of the suffix in words\n",
    "- length of the full suggestion\n",
    "- length of the full words\n",
    "- whether a prefix ends with a space (boolean)"
   ]
  },
  {
   "cell_type": "code",
   "execution_count": null,
   "metadata": {},
   "outputs": [],
   "source": [
    "import pandas as pd\n",
    "import dask.dataframe as dd\n",
    "import nltk\n",
    "import numpy as np\n",
    "from sklearn.datasets import dump_svmlight_file\n",
    "\n",
    "from util.dask import to_csv\n",
    "\n",
    "SUFFIX_FILE = 'popular_suffix.csv'\n",
    "QUERY_FILE = 'popular_query.csv'\n",
    "\n",
    "CHUNK_SIZE = 10000"
   ]
  },
  {
   "cell_type": "markdown",
   "metadata": {},
   "source": [
    "## Ngram based features"
   ]
  },
  {
   "cell_type": "code",
   "execution_count": null,
   "metadata": {},
   "outputs": [],
   "source": [
    "ngram_cols = ['ngramfreq_{}'.format(i) for i in range(1,7)]\n",
    "\n",
    "def ngram_apply(query, suffix_df):\n",
    "    words = query.split()\n",
    "    ngrams = []\n",
    "        \n",
    "    for n in range(1,7):\n",
    "        s = 0\n",
    "        for ngram in nltk.ngrams(words, n):\n",
    "            try:\n",
    "                counts = int(suffix_df.at[' '.join(ngram), 'counts'])\n",
    "            except KeyError:\n",
    "                counts = 0\n",
    "\n",
    "            s += counts\n",
    "            \n",
    "        ngrams.append(s)\n",
    "    \n",
    "    return pd.Series(ngrams)\n",
    "\n",
    "def query_freq(query, query_df):\n",
    "    try:\n",
    "        return int(query_df.at[query, 'counts'])\n",
    "    except KeyError:\n",
    "        return 0"
   ]
  },
  {
   "cell_type": "code",
   "execution_count": null,
   "metadata": {},
   "outputs": [],
   "source": [
    "suffix_df = pd.read_csv(SUFFIX_FILE, index_col='ngram', dtype=object, low_memory=False)\n",
    "query_df = pd.read_csv(QUERY_FILE, index_col='Query', dtype=object, low_memory=False)"
   ]
  },
  {
   "cell_type": "code",
   "execution_count": null,
   "metadata": {},
   "outputs": [],
   "source": [
    "def calculate_features(in_file, svmlight_file):\n",
    "    chunks = pd.read_csv(in_file, dtype=object, low_memory=False, chunksize=30000)\n",
    "\n",
    "    df2 = pd.read_csv(in_file, dtype=object, low_memory=False)\n",
    "    df2 = df2.fillna('')\n",
    "    df2 = df2.reset_index(drop=True)\n",
    "\n",
    "    qids = df2.Prefix.unique()\n",
    "    qids = pd.Series(np.arange(len(qids)), qids)\n",
    "        \n",
    "    num_chunks = int(sum(1 for row in open(in_file, 'r')) / CHUNK_SIZE) + 1\n",
    "    chunk_id = iter(range(1, num_chunks+1))\n",
    "    \n",
    "    for df in chunks:\n",
    "        print(\"Processing chunk {} of {}\".format(next(chunk_id), num_chunks), end=\"\\r\")\n",
    "                \n",
    "        df = df.fillna('')\n",
    "        \n",
    "        ## Generate features for each row\n",
    "        df['prefix_id'] = df.Prefix.apply(lambda x : qids.loc[x])\n",
    "        df[ngram_cols] = df.Query.apply(ngram_apply, suffix_df=suffix_df)\n",
    "        df['query_freq'] = df.Query.apply(query_freq, query_df=query_df)\n",
    "        df['is_relevant'] = df['query_freq'].apply(lambda x : 1 if x > 0 else 0)\n",
    "        df['prefix_len_c'] = df.Prefix.str.len()\n",
    "        df['prefix_len_w'] = df.Prefix.str.split().str.len()\n",
    "        df['suffix_len_c'] = df.Suffix.str.len()\n",
    "        df['suffix_len_w'] = df.Suffix.str.split().str.len()\n",
    "        df['len_c'] = df.Query.str.len()\n",
    "        df['len_w'] = df.Query.str.split().str.len()\n",
    "        df['end_space'] = df.Prefix.str.endswith(' ').astype(int)\n",
    "\n",
    "        df = df.drop('Prefix', axis=1)\n",
    "        df = df.drop('Query', axis=1)\n",
    "        df = df.drop('Suffix', axis=1)\n",
    "\n",
    "        df = df.sort_values('prefix_id')\n",
    "\n",
    "        data = df.drop('prefix_id', axis=1).drop('is_relevant', axis=1).drop('Index', axis=1)\n",
    "\n",
    "        dump_svmlight_file(data, y=df['is_relevant'], query_id=df['prefix_id'], f=svmlight_file.format(index))"
   ]
  },
  {
   "cell_type": "code",
   "execution_count": null,
   "metadata": {},
   "outputs": [],
   "source": [
    "calculate_features('training_sampled.csv', 'training_features.svmlight.txt', 'training_features.csv')\n",
    "calculate_features('test_sampled.csv', 'test_features_{}.svmlight.txt', 'test_features.csv')\n",
    "calculate_features('validation_sampled.csv', 'validation_features_{}.svmlight.txt')"
   ]
  }
 ],
 "metadata": {
  "kernelspec": {
   "display_name": "Python 3",
   "language": "python",
   "name": "python3"
  },
  "language_info": {
   "codemirror_mode": {
    "name": "ipython",
    "version": 3
   },
   "file_extension": ".py",
   "mimetype": "text/x-python",
   "name": "python",
   "nbconvert_exporter": "python",
   "pygments_lexer": "ipython3",
   "version": "3.7.1"
  }
 },
 "nbformat": 4,
 "nbformat_minor": 2
}

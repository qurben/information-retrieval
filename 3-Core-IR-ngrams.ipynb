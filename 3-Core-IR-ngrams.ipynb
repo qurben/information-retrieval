{
 "cells": [
  {
   "cell_type": "markdown",
   "metadata": {},
   "source": [
    "# Generate ngrams for every row\n",
    "\n",
    "Generate the ngrams from the background data"
   ]
  },
  {
   "cell_type": "code",
   "execution_count": null,
   "metadata": {},
   "outputs": [],
   "source": [
    "import pandas as pd\n",
    "import numpy as np\n",
    "import re\n",
    "import os\n",
    "import os.path\n",
    "\n",
    "IN_FILE = 'background.csv'\n",
    "OUT_FILE = 'total_data_ngrams.csv'\n",
    "CHUNK_SIZE = 100000\n",
    "NUMBER_OF_NGRAMS = 4"
   ]
  },
  {
   "cell_type": "code",
   "execution_count": null,
   "metadata": {},
   "outputs": [],
   "source": [
    "def apply_suffix_ngrams(query):\n",
    "#     query = row.iloc[0][\"Query\"]\n",
    "    if pd.isna(query): query = ''\n",
    "    return pd.Series(suffix_ngrams(query))\n",
    "\n",
    "def suffix_ngrams(string):\n",
    "    words = re.sub(r' +|-|\\.', ' ', ' ' + string).split()\n",
    "    num_ngrams = min(len(words), NUMBER_OF_NGRAMS)\n",
    "    \n",
    "    if num_ngrams == 0: return []\n",
    "\n",
    "    for i in range(num_ngrams): yield ' '.join(words[(-1-i):])"
   ]
  },
  {
   "cell_type": "code",
   "execution_count": null,
   "metadata": {},
   "outputs": [],
   "source": [
    "ngram_cols = ['ngram{}'.format(n+1) for n in range(NUMBER_OF_NGRAMS)]\n",
    "\n",
    "with open(OUT_FILE, 'w') as the_file, open(IN_FILE, 'r') as in_file:\n",
    "    line = in_file.readline()[:-1]\n",
    "    the_file.write('id,ngram\\n')"
   ]
  },
  {
   "cell_type": "code",
   "execution_count": null,
   "metadata": {},
   "outputs": [],
   "source": [
    "dtypes = {\n",
    "    'AnonID': 'str',\n",
    "    'Query': 'str',\n",
    "    'QueryTime': 'str',\n",
    "    'ItemRank': 'str',\n",
    "    'ClickURL': 'str',\n",
    "}\n",
    "\n",
    "# only load index and Query\n",
    "chunks = pd.read_csv(IN_FILE, index_col=0, dtype=dtypes, usecols=[0, 2], low_memory=False, chunksize=CHUNK_SIZE)\n",
    "\n",
    "# Count the number of chunks in this file\n",
    "num_chunks = int(sum(1 for row in open(IN_FILE, 'r')) / CHUNK_SIZE) + 1\n",
    "chunk_id = iter(range(1, num_chunks+1))"
   ]
  },
  {
   "cell_type": "code",
   "execution_count": null,
   "metadata": {},
   "outputs": [],
   "source": [
    "for df in chunks:\n",
    "    print(\"Processing chunk {} of {}\".format(next(chunk_id), num_chunks), end=\"\\r\")\n",
    "    df.reset_index(inplace=True)\n",
    "    \n",
    "    df = df.Query.apply(apply_suffix_ngrams)\\\n",
    "         .merge(df, right_index = True, left_index = True)\\\n",
    "         .drop(['Query'], axis=1)\\\n",
    "         .melt(id_vars = ['index'], value_name = \"ngram\")\\\n",
    "         .drop([\"variable\", \"index\"], axis = 1)\\\n",
    "         .dropna()\n",
    "    \n",
    "    df.to_csv(OUT_FILE, mode='a', header=False)"
   ]
  }
 ],
 "metadata": {
  "kernelspec": {
   "display_name": "Python 3",
   "language": "python",
   "name": "python3"
  },
  "language_info": {
   "codemirror_mode": {
    "name": "ipython",
    "version": 3
   },
   "file_extension": ".py",
   "mimetype": "text/x-python",
   "name": "python",
   "nbconvert_exporter": "python",
   "pygments_lexer": "ipython3",
   "version": "3.7.1"
  }
 },
 "nbformat": 4,
 "nbformat_minor": 2
}

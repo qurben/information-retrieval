{
 "cells": [
  {
   "cell_type": "markdown",
   "metadata": {},
   "source": [
    "# Generate ngrams for every row\n",
    "\n",
    "Generate the ngrams from the background data"
   ]
  },
  {
   "cell_type": "code",
   "execution_count": null,
   "metadata": {},
   "outputs": [],
   "source": [
    "import pandas as pd\n",
    "import dask.dataframe as dd\n",
    "import re\n",
    "\n",
    "IN_FILE = 'background.csv'\n",
    "SUFFIX_FILE = 'total_data_ngrams_punct.csv'\n",
    "CHUNK_SIZE = 10000\n",
    "MAX_NUMBER_OF_NGRAMS = 3"
   ]
  },
  {
   "cell_type": "code",
   "execution_count": null,
   "metadata": {},
   "outputs": [],
   "source": [
    "def suffix_ngrams(string):\n",
    "    if string == '-': return # Remove single - strings\n",
    "    string = re.sub('- |\\'', '', string) # Remove - used as separator and single '\n",
    "    words = (' ' + string).split()\n",
    "    num_ngrams = min(len(words), MAX_NUMBER_OF_NGRAMS)\n",
    "    \n",
    "    for i in range(num_ngrams): yield ' '.join(words[(-1-i):])"
   ]
  },
  {
   "cell_type": "code",
   "execution_count": null,
   "metadata": {},
   "outputs": [],
   "source": [
    "with open(SUFFIX_FILE, 'w') as the_file: the_file.write('')"
   ]
  },
  {
   "cell_type": "code",
   "execution_count": null,
   "metadata": {},
   "outputs": [],
   "source": [
    "dtypes = {\n",
    "    'AnonID': 'str',\n",
    "    'Query': 'str',\n",
    "    'QueryTime': 'str',\n",
    "    'ItemRank': 'str',\n",
    "    'ClickURL': 'str',\n",
    "}\n",
    "\n",
    "# only load index and Query\n",
    "chunks = pd.read_csv(IN_FILE, index_col=0, dtype=dtypes, usecols=[0, 2], low_memory=False, chunksize=CHUNK_SIZE)\n",
    "\n",
    "# Count the number of chunks in this file\n",
    "num_chunks = int(sum(1 for row in open(IN_FILE, 'r')) / CHUNK_SIZE) + 1\n",
    "chunk_id = iter(range(1, num_chunks+1))"
   ]
  },
  {
   "cell_type": "code",
   "execution_count": null,
   "metadata": {},
   "outputs": [],
   "source": [
    "for df in chunks:\n",
    "    print(\"Processing chunk {} of {}\".format(next(chunk_id), num_chunks), end=\"\\r\")\n",
    "    \n",
    "    # Any empty query is not interesting\n",
    "    df.dropna(inplace=True)\n",
    "    \n",
    "    # 1. Apply suffix_ngrams, creates a list of ngrams for each row\n",
    "    # 2. Apply pd.Series, creates a series for this list\n",
    "    # 3. Merge the applied series with the dataframe\n",
    "    # 3. Drop the Query column, we don't need it anymore\n",
    "    # 4. Reset the index, make it available for selection\n",
    "    # 5. Melt with the index as id, this flattens the ngrams list\n",
    "    # 6. Drop the variable and index columns, they are not interesting anymore\n",
    "    # 7. Drop any empty values (any rows with less than NUMBER_OF_NGRAMS ngrams.\n",
    "    df = df.Query.apply(suffix_ngrams).apply(pd.Series)\\\n",
    "         .merge(df, right_index = True, left_index = True)\\\n",
    "         .drop(['Query'], axis=1)\\\n",
    "         .reset_index()\\\n",
    "         .melt(id_vars = ['index'], value_name = \"ngram\")\\\n",
    "         .drop(['variable', 'index'], axis = 1)\\\n",
    "         .dropna()\n",
    "    \n",
    "    df.to_csv(SUFFIX_FILE, mode='a', header=False, index=False)"
   ]
  },
  {
   "cell_type": "code",
   "execution_count": null,
   "metadata": {},
   "outputs": [],
   "source": [
    "df = pd.read_csv(SUFFIX_FILE, header=None, names=['ngram'])\n",
    "df = dd.from_pandas(df, chunksize=CHUNK_SIZE)\n",
    "df = df.groupby('ngram').agg('size').compute()\\\n",
    "        .reset_index(name='counts')\\\n",
    "        .sort_values('counts', ascending=False)\n",
    "df.to_csv('popular_suffix_punct.csv')"
   ]
  }
 ],
 "metadata": {
  "kernelspec": {
   "display_name": "Python 3",
   "language": "python",
   "name": "python3"
  },
  "language_info": {
   "codemirror_mode": {
    "name": "ipython",
    "version": 3
   },
   "file_extension": ".py",
   "mimetype": "text/x-python",
   "name": "python",
   "nbconvert_exporter": "python",
   "pygments_lexer": "ipython3",
   "version": "3.7.1"
  }
 },
 "nbformat": 4,
 "nbformat_minor": 2
}
